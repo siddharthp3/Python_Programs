{
 "cells": [
  {
   "cell_type": "markdown",
   "id": "560c08ad-61e6-4b5e-93d5-755656e04963",
   "metadata": {},
   "source": [
    "# 1.Remove duplicate elements from a list"
   ]
  },
  {
   "cell_type": "code",
   "execution_count": 1,
   "id": "e7f6a314-b8cb-40c1-91ab-dd56c73cb7a5",
   "metadata": {},
   "outputs": [],
   "source": [
    "data = [23, 25, 26, 27, 23, 25, 66, 55, 66, 77, 27]"
   ]
  },
  {
   "cell_type": "code",
   "execution_count": 27,
   "id": "d7ea049c-c6f1-40ea-869b-1b6d7bb2735d",
   "metadata": {},
   "outputs": [],
   "source": [
    "# Using an empty list\n",
    "\n",
    "new_data = []\n",
    "for item in data:\n",
    "    if item not in new_data:\n",
    "        new_data.append(item)\n",
    "print(new_data)"
   ]
  },
  {
   "cell_type": "code",
   "execution_count": 26,
   "id": "18bebc0f-934c-482b-9f0b-a574775ef427",
   "metadata": {},
   "outputs": [],
   "source": [
    "# Using dict keys method\n",
    "\n",
    "print(dict.fromkeys(data))\n",
    "print(list(dict.fromkeys(data)))"
   ]
  },
  {
   "cell_type": "code",
   "execution_count": 25,
   "id": "9bccbe35-7989-475b-83a9-124644c45a34",
   "metadata": {},
   "outputs": [],
   "source": [
    "# Using set\n",
    "\n",
    "print(list(set(data)))"
   ]
  },
  {
   "cell_type": "code",
   "execution_count": 24,
   "id": "8becc776-73a4-498e-b4e0-3e1320f665d8",
   "metadata": {},
   "outputs": [],
   "source": [
    "# Using enumerate\n",
    "\n",
    "for n,item in enumerate(data):\n",
    "    if item not in data[:n]:\n",
    "        print(n, item)\n",
    "\n",
    "# Same using list comprehension\n",
    "print([item for n, item in enumerate(data) if item not in data[:n]])"
   ]
  },
  {
   "cell_type": "markdown",
   "id": "4836b20c-e614-48f6-ab71-f551bd566f1b",
   "metadata": {},
   "source": [
    "# 2.Sorting list items"
   ]
  },
  {
   "cell_type": "code",
   "execution_count": 22,
   "id": "7d9c17f3-bc1c-4b5b-bc36-4f85ab57f5ed",
   "metadata": {},
   "outputs": [],
   "source": [
    "# Bubble Sort\n",
    "\n",
    "data = [43, 23, 29, 54, 2, 66, 33, 8, 5, 21]\n",
    "for j in range(len(data)-1):\n",
    "    for i in range(len(data)-1):\n",
    "        if data[i] > data[i+1]:\n",
    "            data[i], data[i+1] = data[i+1], data[i]\n",
    "print(data)"
   ]
  },
  {
   "cell_type": "code",
   "execution_count": 21,
   "id": "f5bbad82-7c9a-41af-9a77-b1368df6f279",
   "metadata": {},
   "outputs": [],
   "source": [
    "# Quick Sort\n",
    "\n",
    "def quick_sort(sequence):\n",
    "    length = len(sequence)\n",
    "    if length <= 1:\n",
    "        return sequence\n",
    "    else:\n",
    "        pivot = sequence.pop()\n",
    "    items_greater = []\n",
    "    items_lower = []\n",
    "    for item in sequence:\n",
    "        if item > pivot:\n",
    "            items_greater.append(item)\n",
    "        else:\n",
    "            items_lower.append(item)\n",
    "    \n",
    "    return quick_sort(items_lower) + [pivot] + quick_sort(items_greater)\n",
    "\n",
    "print(quick_sort(data))"
   ]
  },
  {
   "cell_type": "markdown",
   "id": "ad8e382f-b417-4d51-a9d9-3cba42d7fa2e",
   "metadata": {},
   "source": [
    "# 3.Count of number of occurrences of an item in a list"
   ]
  },
  {
   "cell_type": "code",
   "execution_count": 20,
   "id": "1c6bda2c-c4cf-4725-a8ec-8e826f8c0626",
   "metadata": {},
   "outputs": [],
   "source": [
    "# Using collections module\n",
    "\n",
    "from collections import Counter\n",
    "\n",
    "data = [23, 25, 26, 27, 23, 25, 66, 55, 66, 77, 27, 25]\n",
    "count_data = dict(Counter(data))\n",
    "print(count_data)"
   ]
  },
  {
   "cell_type": "code",
   "execution_count": 19,
   "id": "7325bd1a-bbbb-434a-9d42-b9b8b4760031",
   "metadata": {},
   "outputs": [],
   "source": [
    "# Using count method\n",
    "\n",
    "print(dict((item, data.count(item)) for item in set(data)))"
   ]
  },
  {
   "cell_type": "code",
   "execution_count": 18,
   "id": "705d0ed1-235d-4956-a7cb-3312b9d1976c",
   "metadata": {},
   "outputs": [],
   "source": [
    "# Using loop and dict\n",
    "\n",
    "result = {}\n",
    "for i in data:\n",
    "    if i in result:\n",
    "        result[i] += 1\n",
    "    else:\n",
    "        result[i] = 1\n",
    "\n",
    "print(result)"
   ]
  },
  {
   "cell_type": "markdown",
   "id": "021d4f46-3cd6-4271-ab51-8806aa118349",
   "metadata": {},
   "source": [
    "# 4.String reversal"
   ]
  },
  {
   "cell_type": "code",
   "execution_count": 17,
   "id": "1fd4348d-6249-48a2-b3b5-1a914646de60",
   "metadata": {},
   "outputs": [],
   "source": [
    "data = \"Qwertyuiop\"\n",
    "\n",
    "# Using slicing\n",
    "\n",
    "print(data[::-1])"
   ]
  },
  {
   "cell_type": "code",
   "execution_count": 16,
   "id": "905b2b0b-1080-4ad3-94e4-f9f9ac172e1a",
   "metadata": {},
   "outputs": [],
   "source": [
    "# Using empty str and for loop\n",
    "\n",
    "reversed_str = \"\"\n",
    "for i in data:\n",
    "    reversed_str = i + reversed_str\n",
    "print(reversed_str)"
   ]
  },
  {
   "cell_type": "markdown",
   "id": "55d870bd-cb49-4217-b7e1-3a0130b2cddc",
   "metadata": {},
   "source": [
    "# 5.Check Palindrome"
   ]
  },
  {
   "cell_type": "code",
   "execution_count": 15,
   "id": "770a239e-3f30-4761-80d9-ea0e53561434",
   "metadata": {},
   "outputs": [],
   "source": [
    "data = \"malayalam\"\n",
    "\n",
    "# Using slicing\n",
    "\n",
    "def isPalindrome(data_str):\n",
    "    if data_str == data_str[::-1]:\n",
    "        return True\n",
    "    else:\n",
    "        return False\n",
    "    \n",
    "print(isPalindrome(data))"
   ]
  },
  {
   "cell_type": "code",
   "execution_count": 14,
   "id": "9e3ec914-be1c-4cd5-9a99-de759f51f4c8",
   "metadata": {},
   "outputs": [],
   "source": [
    "# Using extra string\n",
    "\n",
    "rev_str = \"\"\n",
    "for i in data:\n",
    "    rev_str = i + rev_str\n",
    "\n",
    "if data == rev_str:\n",
    "    print(True)\n",
    "else:\n",
    "    print(False)"
   ]
  },
  {
   "cell_type": "markdown",
   "id": "456f5f22-6254-476d-938e-aa7612719177",
   "metadata": {},
   "source": [
    "# 6.Count frequency of a word in a string"
   ]
  },
  {
   "cell_type": "code",
   "execution_count": 40,
   "id": "1e02cd38-9d95-46f4-8479-307a0ba83aa9",
   "metadata": {},
   "outputs": [],
   "source": [
    "data = \"apple mango apple orange orange apple guava mango mango\""
   ]
  },
  {
   "cell_type": "code",
   "execution_count": 13,
   "id": "0e4ad16b-f31c-46df-af60-b73bf96832a7",
   "metadata": {},
   "outputs": [],
   "source": [
    "# Using dict and for loop\n",
    "\n",
    "data_lst = data.split()\n",
    "res = {}\n",
    "for i in data_lst:\n",
    "    res[i] = res.get(i, 0) + 1\n",
    "\n",
    "print(res)"
   ]
  },
  {
   "cell_type": "markdown",
   "id": "f418b939-e4ce-4d60-a75d-21197ef528bb",
   "metadata": {},
   "source": [
    "# 7.Pattern printing"
   ]
  },
  {
   "cell_type": "code",
   "execution_count": 11,
   "id": "97ddb735-386b-4f7d-9c49-46695db53310",
   "metadata": {},
   "outputs": [],
   "source": [
    "# Right Angle Triangle\n",
    "\n",
    "rows = 5\n",
    "for i in range(1, rows+1):\n",
    "    print(\"*\" * i)"
   ]
  },
  {
   "cell_type": "code",
   "execution_count": 10,
   "id": "edf7f525-6220-430e-a6b6-96bc1f8ceac4",
   "metadata": {},
   "outputs": [],
   "source": [
    "# Star pattern\n",
    "\n",
    "rows = 5\n",
    "for i in range(rows):\n",
    "    print(' '*(rows-i)+'*'*(i+1)) # add space after * to change the pattern"
   ]
  },
  {
   "cell_type": "code",
   "execution_count": 9,
   "id": "307bf6f6-e3f7-4927-8c81-f779ea786597",
   "metadata": {},
   "outputs": [],
   "source": [
    "# Diamond pattern\n",
    "\n",
    "rows = 5\n",
    "for i in range(1, rows+1):\n",
    "    print(\" \"* (rows-i)+\"* \"*i)\n",
    "for i in range(rows,0,-1):\n",
    "    print(\" \"* (rows-i)+\"* \"*i)"
   ]
  },
  {
   "cell_type": "markdown",
   "id": "6ede7f34-64f1-4a42-9198-85ce54463f07",
   "metadata": {},
   "source": [
    "# 8.Factorial"
   ]
  },
  {
   "cell_type": "code",
   "execution_count": 8,
   "id": "119294b9-c399-4777-a031-8b30b6169ca5",
   "metadata": {},
   "outputs": [],
   "source": [
    "# Without recursion\n",
    "\n",
    "num = 3\n",
    "result = 1\n",
    "for i in range(num,0,-1):\n",
    "    result = result * i\n",
    "print(result)"
   ]
  },
  {
   "cell_type": "code",
   "execution_count": null,
   "id": "7492ff72-dc9f-4a89-ae24-98d78f2f26f5",
   "metadata": {},
   "outputs": [],
   "source": [
    "# With recursion\n",
    "\n",
    "def fact(n):\n",
    "    if n == 0:\n",
    "        return 1\n",
    "    else:\n",
    "        return n * fact(n-1)\n",
    "\n",
    "print(fact(5))"
   ]
  },
  {
   "cell_type": "markdown",
   "id": "95b2cb0c-564e-484d-b345-599ff0975755",
   "metadata": {},
   "source": [
    "# 9.Fibonacci series"
   ]
  },
  {
   "cell_type": "code",
   "execution_count": 7,
   "id": "4c25a36a-6d0d-4681-81b9-f0961f741705",
   "metadata": {},
   "outputs": [],
   "source": [
    "def fibonacci(n):\n",
    "    a = 0\n",
    "    b = 1\n",
    "    for i in range(n):\n",
    "        print(b)\n",
    "        a, b  = b, a+b\n",
    "print(fibonacci(6))"
   ]
  },
  {
   "cell_type": "code",
   "execution_count": 6,
   "id": "53ba689a-b6b1-4c22-8ba4-a40b55aac52b",
   "metadata": {},
   "outputs": [],
   "source": [
    "def fib(n):\n",
    "    a = 0\n",
    "    b = 1\n",
    "    if n == 1:\n",
    "        print(a)\n",
    "    else:\n",
    "        print(a)\n",
    "        print(b)\n",
    "        for i in range(2, n):\n",
    "            c = a + b\n",
    "            a = b\n",
    "            b = c\n",
    "            print(c)\n",
    "fib(7)"
   ]
  },
  {
   "cell_type": "code",
   "execution_count": null,
   "id": "2425dcfc-dec6-4362-b1eb-38f2e6f58c24",
   "metadata": {},
   "outputs": [],
   "source": [
    "# Using recursion\n",
    "\n",
    "def fib(n):\n",
    "    if n == 0:\n",
    "        return 0\n",
    "    elif n == 1:\n",
    "        return 1\n",
    "    else:\n",
    "        return (fib(n-2) + fib(n-1))\n",
    "\n",
    "for n in range(0, 7):\n",
    "    print(fib(n))"
   ]
  },
  {
   "cell_type": "markdown",
   "id": "49c5ff96-8ca8-45c8-8f01-2c57faa38856",
   "metadata": {},
   "source": [
    "# 10.Armstrong number"
   ]
  },
  {
   "cell_type": "code",
   "execution_count": 40,
   "id": "f4fdf447-2048-498e-ac2c-5a843113fa39",
   "metadata": {},
   "outputs": [],
   "source": [
    "def check_armstrong(num):\n",
    "    order = len(str(num))\n",
    "    sum = 0\n",
    "    temp = num\n",
    "    while temp > 0:\n",
    "        digit = temp % 10\n",
    "        sum += digit ** order\n",
    "        temp //= 10\n",
    "    if num == sum:\n",
    "        return \"Number is armstrong\"\n",
    "    else:\n",
    "        return \"Not an armstrong\"\n",
    "\n",
    "print(check_armstrong(1634))"
   ]
  },
  {
   "cell_type": "markdown",
   "id": "d31fa3f6-fd8b-46b7-9fd1-132d90c67047",
   "metadata": {},
   "source": [
    "# 11.Check the validity of a Password\n",
    "\n",
    "Primary conditions for password validation :\n",
    "\n",
    "    Minimum 8 characters.\n",
    "    The alphabets must be between [a-z]\n",
    "    At least one alphabet should be of Upper Case [A-Z]\n",
    "    At least 1 number or digit between [0-9].\n",
    "    At least 1 character from [ _ or @ or $ ]."
   ]
  },
  {
   "cell_type": "code",
   "execution_count": 49,
   "id": "6279b73d-c7d3-46b7-b756-405be58dea64",
   "metadata": {},
   "outputs": [],
   "source": [
    "import re\n",
    "\n",
    "\n",
    "def validate_password(password):\n",
    "    if len(password) < 7:\n",
    "        print(\"Make sure your password is at lest 8 letters\")\n",
    "    elif re.search(\"[a-z]\", password) is None:\n",
    "        print(\"Make sure your password has a lowercase letter in it\")\n",
    "    elif re.search(\"[A-Z]\", password) is None:\n",
    "        print(\"Make sure your password has a uppercase letter in it\")\n",
    "    elif re.search(\"[0-9]\", password) is None:\n",
    "        print(\"Make sure your password has a number in it\")\n",
    "    elif re.search(\"[_@$]\", password) is None:\n",
    "        print(\"Make sure your password has a special char in it\")\n",
    "    elif not re.search('\\s', password) is None:\n",
    "        print(\"Make sure your password has no space in it\")\n",
    "    else:\n",
    "        print(\"Valid Password\")\n",
    "\n",
    "\n",
    "print(validate_password(\"R@m@_f0rtu9e$\"))"
   ]
  },
  {
   "cell_type": "markdown",
   "id": "1268c69c-f0ab-464d-8521-1e803496f78c",
   "metadata": {},
   "source": [
    "# 12.Sum of elements in a list"
   ]
  },
  {
   "cell_type": "code",
   "execution_count": null,
   "id": "2884c9ba-a3bb-4de1-aaa8-d538d41b7286",
   "metadata": {},
   "outputs": [],
   "source": [
    "data = [10, 20, 40]\n",
    "def sum_of(series):\n",
    "    total = 0\n",
    "    for i in series:\n",
    "        total = total + i\n",
    "    return total\n",
    "print(sum_of(data))"
   ]
  },
  {
   "cell_type": "markdown",
   "id": "476d26f1-3b39-47d3-93f7-928880f74128",
   "metadata": {},
   "source": [
    "# 13.Swap first and last element of a list"
   ]
  },
  {
   "cell_type": "code",
   "execution_count": 57,
   "id": "3e604bd9-1a87-45c4-a7d5-4cfe0d6d21b2",
   "metadata": {},
   "outputs": [],
   "source": [
    "data = [23, 25, 26, 27, 23, 25, 66, 55, 66, 77, 27, 25]"
   ]
  },
  {
   "cell_type": "code",
   "execution_count": 53,
   "id": "b14c0fdd-ef68-4789-ac03-af59e85b1bc2",
   "metadata": {},
   "outputs": [],
   "source": [
    "# Using list methods\n",
    "\n",
    "first = data.pop(0)\n",
    "last = data.pop(-1)\n",
    "\n",
    "data.insert(0,last)\n",
    "data.append(first)\n",
    "# print(data)"
   ]
  },
  {
   "cell_type": "code",
   "execution_count": 56,
   "id": "7351dce1-cd97-405e-9542-20bda88d458d",
   "metadata": {},
   "outputs": [],
   "source": [
    "# Using swap\n",
    "\n",
    "data[0], data[-1] = data[-1], data[0]\n",
    "# print(data)"
   ]
  },
  {
   "cell_type": "markdown",
   "id": "78eca9eb-95d3-4241-95fc-5405fb15a67d",
   "metadata": {},
   "source": [
    "# 14.sort vs sorted"
   ]
  },
  {
   "cell_type": "markdown",
   "id": "2ee2003d-624f-429a-96a3-46c946dc125d",
   "metadata": {},
   "source": [
    "Sort is a list method which sorts the list items in place\n",
    "\n",
    "Sorted is python function which returns a list of sorted items"
   ]
  },
  {
   "cell_type": "code",
   "execution_count": 69,
   "id": "5bfbc38a-2377-435b-b3c0-ffc7a01d5e57",
   "metadata": {},
   "outputs": [],
   "source": [
    "data_s = [43, 23, 29, 54, 2, 66, 33, 8, 5, 21]"
   ]
  },
  {
   "cell_type": "code",
   "execution_count": null,
   "id": "e94389a9-f5b6-46c7-a872-ffa4c4b2fb96",
   "metadata": {},
   "outputs": [],
   "source": [
    "data_s.sort()\n",
    "# data_s.sort(reverse=True)\n",
    "print(data_s)"
   ]
  },
  {
   "cell_type": "code",
   "execution_count": null,
   "id": "c11aaa8a-7e7c-4eb0-9bcd-ffdf0c56d8f1",
   "metadata": {},
   "outputs": [],
   "source": [
    "sorted_list = sorted(data_s)\n",
    "print(sorted_list)"
   ]
  },
  {
   "cell_type": "markdown",
   "id": "f043c01e-31f3-4fee-80ee-4382499cd039",
   "metadata": {},
   "source": [
    "# 15.Deep copy vs Shallow copy"
   ]
  },
  {
   "cell_type": "code",
   "execution_count": 19,
   "id": "748688d1-2fc8-4e0d-ae16-021f09adfdf6",
   "metadata": {
    "tags": []
   },
   "outputs": [],
   "source": [
    "xs = [[1, 2, 3], [4, 5, 6], [7, 8, 9]]"
   ]
  },
  {
   "cell_type": "code",
   "execution_count": 20,
   "id": "918c5d3b-eb72-430b-9c3e-0af7cb0f934e",
   "metadata": {
    "tags": []
   },
   "outputs": [],
   "source": [
    "'''ys will now be a new and independent object with the same contents as xs'''\n",
    "ys = list(xs)  # Make a shallow copy  copy.copy(xs) "
   ]
  },
  {
   "cell_type": "code",
   "execution_count": 21,
   "id": "ac53b963-6e0d-47f1-b3c6-51ee57c2d49c",
   "metadata": {
    "tags": []
   },
   "outputs": [
    {
     "name": "stdout",
     "output_type": "stream",
     "text": [
      "[[1, 2, 3], [4, 5, 6], [7, 8, 9]]\n",
      "[[1, 2, 3], [4, 5, 6], [7, 8, 9]]\n"
     ]
    }
   ],
   "source": [
    "print (xs)\n",
    "print(ys)"
   ]
  },
  {
   "cell_type": "code",
   "execution_count": 22,
   "id": "8d5223de-9ca9-4217-996f-6b0995f3cee2",
   "metadata": {
    "tags": []
   },
   "outputs": [
    {
     "name": "stdout",
     "output_type": "stream",
     "text": [
      "[[1, 2, 3], [4, 5, 6], [7, 8, 9], ['new sublist']]\n",
      "[[1, 2, 3], [4, 5, 6], [7, 8, 9]]\n"
     ]
    }
   ],
   "source": [
    "xs.append(['new sublist']) # Modifying the copied list at a “superficial” level was no problem at all\n",
    "print (xs)\n",
    "print(ys)"
   ]
  },
  {
   "cell_type": "code",
   "execution_count": 23,
   "id": "cd62e8a5-adcf-436a-a4cd-bd7203583f3d",
   "metadata": {
    "tags": []
   },
   "outputs": [
    {
     "name": "stdout",
     "output_type": "stream",
     "text": [
      "[[1, 2, 3], ['X', 5, 6], [7, 8, 9], ['new sublist']]\n",
      "[[1, 2, 3], ['X', 5, 6], [7, 8, 9]]\n"
     ]
    }
   ],
   "source": [
    "'''ys still contains references to the original child objects stored in xs'''\n",
    "xs[1][0] = 'X'\n",
    "print (xs)\n",
    "print(ys)"
   ]
  },
  {
   "cell_type": "markdown",
   "id": "ccf6a65e-1a18-4395-bd3a-bafc928e5a34",
   "metadata": {
    "tags": []
   },
   "source": [
    "### Change was only made to xs. But it turns out that both sublists at index 1 in xs and ys were modified. Again, this happened because we had only created a shallow copy of the original list."
   ]
  },
  {
   "cell_type": "code",
   "execution_count": 24,
   "id": "a678f1a4-c156-4340-abaa-9e2ae36be186",
   "metadata": {},
   "outputs": [],
   "source": [
    "import copy"
   ]
  },
  {
   "cell_type": "code",
   "execution_count": 25,
   "id": "36cd5b56-9ce2-4aad-a982-3e8fecf7ce8e",
   "metadata": {},
   "outputs": [],
   "source": [
    "xs = [[1, 2, 3], [4, 5, 6], [7, 8, 9]]\n",
    "zs = copy.deepcopy(xs)"
   ]
  },
  {
   "cell_type": "code",
   "execution_count": 26,
   "id": "c2a79039-70fb-4b6f-9fce-3daf829a8c9d",
   "metadata": {},
   "outputs": [
    {
     "name": "stdout",
     "output_type": "stream",
     "text": [
      "[[1, 2, 3], [4, 5, 6], [7, 8, 9]]\n",
      "[[1, 2, 3], [4, 5, 6], [7, 8, 9]]\n"
     ]
    }
   ],
   "source": [
    "print(xs)\n",
    "print(zs)"
   ]
  },
  {
   "cell_type": "code",
   "execution_count": 27,
   "id": "a11299d2-7fb6-47d4-aec4-64628d483174",
   "metadata": {},
   "outputs": [
    {
     "name": "stdout",
     "output_type": "stream",
     "text": [
      "[[1, 2, 3], ['X', 5, 6], [7, 8, 9]]\n",
      "[[1, 2, 3], [4, 5, 6], [7, 8, 9]]\n"
     ]
    }
   ],
   "source": [
    "xs[1][0] = 'X'\n",
    "print(xs)\n",
    "print(zs)"
   ]
  },
  {
   "cell_type": "markdown",
   "id": "85a64dbb-ef61-48b1-8e31-1a7047cc30bd",
   "metadata": {},
   "source": [
    "### Making a shallow copy of an object won’t clone child objects. Therefore, the copy is not fully independent of the original. A deep copy of an object will recursively clone child objects. The clone is fully independent of the original, but creating a deep copy is slower."
   ]
  },
  {
   "cell_type": "markdown",
   "id": "9a47406c-285d-4b70-8889-751b3048ef37",
   "metadata": {},
   "source": [
    "# 16.JSON"
   ]
  },
  {
   "cell_type": "code",
   "execution_count": 3,
   "id": "de66e96d-c786-4eb4-9580-96e5b46c9eef",
   "metadata": {},
   "outputs": [],
   "source": [
    "import json"
   ]
  },
  {
   "cell_type": "code",
   "execution_count": 5,
   "id": "40f03fcf-1c66-4e1f-88c0-85dfe7d9af63",
   "metadata": {
    "tags": []
   },
   "outputs": [],
   "source": [
    "json_data = '''{\n",
    "    \"firstName\": \"Jane\",\n",
    "    \"lastName\": \"Doe\",\n",
    "    \"hobbies\": [\"running\", \"swimming\", \"singing\"],\n",
    "    \"age\": 28,\n",
    "    \"children\": [\n",
    "        {\n",
    "            \"firstName\": \"Alex\",\n",
    "            \"age\": 5\n",
    "        },\n",
    "        {\n",
    "            \"firstName\": \"Bob\",\n",
    "            \"age\": 7\n",
    "        }\n",
    "    ]\n",
    "}'''"
   ]
  },
  {
   "cell_type": "markdown",
   "id": "5ae0d94f-c032-4312-a7cf-8833ba6bac6b",
   "metadata": {
    "tags": []
   },
   "source": [
    "### Load json data into a python object (Deserialization, Decode)"
   ]
  },
  {
   "cell_type": "code",
   "execution_count": 8,
   "id": "99d6c215-1857-4984-9cea-d50b2b2e63f7",
   "metadata": {
    "tags": []
   },
   "outputs": [],
   "source": [
    "data = json.loads(json_data) # loads method is used to load from a string\n",
    "print(data)\n",
    "data['email'] = True"
   ]
  },
  {
   "cell_type": "markdown",
   "id": "92f07ecf-5de7-4c0f-a7b0-5a1166ed57ee",
   "metadata": {
    "tags": []
   },
   "source": [
    "### Dump python object into json format (Serialization, Encode)"
   ]
  },
  {
   "cell_type": "code",
   "execution_count": null,
   "id": "51e725ce-a477-45b2-9cb7-e7f88819ba95",
   "metadata": {
    "tags": []
   },
   "outputs": [],
   "source": [
    "json_data_1 = json.dumps(data, indent=2) # dumps method is used to convert python object to a json (string)\n",
    "print(json_data_1)"
   ]
  },
  {
   "cell_type": "markdown",
   "id": "72e88786-28b3-4378-bc6f-287083e667c2",
   "metadata": {},
   "source": [
    "# 17.Reverse the words of string"
   ]
  },
  {
   "cell_type": "code",
   "execution_count": 75,
   "id": "9c0cb86b-b280-4325-bd44-b00d045137c4",
   "metadata": {},
   "outputs": [],
   "source": [
    "data = \"Hello This Is a Sample Program\""
   ]
  },
  {
   "cell_type": "code",
   "execution_count": null,
   "id": "ea7b1f35-d3da-42b7-a2fe-91a52261eff6",
   "metadata": {},
   "outputs": [],
   "source": [
    "# Using conversion to a list and using reverse method\n",
    "\n",
    "data_lst = data.split(\" \")\n",
    "data_lst.reverse()\n",
    "rev_str = ' '.join(data_lst)\n",
    "print(rev_str)"
   ]
  },
  {
   "cell_type": "code",
   "execution_count": 92,
   "id": "8d0e150c-64b2-46bb-b312-054d2ceec42a",
   "metadata": {},
   "outputs": [],
   "source": [
    "# Using slicing\n",
    "\n",
    "rev_str = \" \".join(data.split(\" \")[::-1])\n",
    "print(rev_str)"
   ]
  },
  {
   "cell_type": "markdown",
   "id": "6898080b-5e20-42df-a6ec-9ae03f31d872",
   "metadata": {},
   "source": [
    "# 18.Find sub-string in an string"
   ]
  },
  {
   "cell_type": "code",
   "execution_count": 2,
   "id": "fe9f5ad5-1220-4c12-a13f-80742e0020db",
   "metadata": {},
   "outputs": [],
   "source": [
    "import re\n",
    "\n",
    "lines = '''\n",
    "Nappa - What does the scouter say about his power level?\n",
    "Vegeta - It's over 9000!\n",
    "Nappa - What 9000? That can't be right. Can it?\n",
    "'''"
   ]
  },
  {
   "cell_type": "code",
   "execution_count": 4,
   "id": "5d6c032f-ecd2-46fc-8a7a-e9e60b6686f9",
   "metadata": {},
   "outputs": [
    {
     "name": "stdout",
     "output_type": "stream",
     "text": [
      "['Vegeta']\n"
     ]
    }
   ],
   "source": [
    "match_string = re.findall(pattern = 'Vegeta', string = lines)\n",
    "print(match_string)"
   ]
  },
  {
   "cell_type": "markdown",
   "id": "3eef2213-d867-4f42-81a5-823cd695c0ca",
   "metadata": {},
   "source": [
    "# 19.Sort a string with letters and numbers"
   ]
  },
  {
   "cell_type": "code",
   "execution_count": 11,
   "id": "fe343388-1934-4816-841d-16f140dd8a13",
   "metadata": {},
   "outputs": [],
   "source": [
    "data = \"4gesaer54fs2\""
   ]
  },
  {
   "cell_type": "code",
   "execution_count": null,
   "id": "45e25ad8-0204-46e9-8255-e98cbdc804d2",
   "metadata": {},
   "outputs": [],
   "source": [
    "num = []\n",
    "alpha = []\n",
    "for i in data:\n",
    "    if i.isalpha():\n",
    "        alpha.append(i)\n",
    "    else:\n",
    "        num.append(i)\n",
    "res = sorted(alpha) + sorted(num)\n",
    "res_str = ''.join(res)\n",
    "print(res_str)"
   ]
  },
  {
   "cell_type": "markdown",
   "id": "1ad6cf5a-6d43-4c93-b9d4-3ba5b021ff7f",
   "metadata": {},
   "source": [
    "# 20.Pair of sums"
   ]
  },
  {
   "cell_type": "code",
   "execution_count": 26,
   "id": "7671d7c0-9687-4661-aee4-951c8c985b0e",
   "metadata": {},
   "outputs": [],
   "source": [
    "data = [43, 23, 29, 54, 2, 66, 33, 8, 5, 21]"
   ]
  },
  {
   "cell_type": "code",
   "execution_count": null,
   "id": "ebb47402-8ad4-47e8-a5c9-46ae1be7a0f6",
   "metadata": {},
   "outputs": [],
   "source": [
    "sum = 13\n",
    "for i in range(len(data) - 1):\n",
    "    for j in range(i+1, len(data)):\n",
    "        if data[i] + data[j] == sum:\n",
    "            print(data[i], data[j])"
   ]
  },
  {
   "cell_type": "markdown",
   "id": "0f80282c-5a68-41ed-8436-642db1b0cb7d",
   "metadata": {},
   "source": [
    "# 21.Monkey patching"
   ]
  },
  {
   "cell_type": "markdown",
   "id": "a91152db-289b-4135-bfd6-ee1988b467c3",
   "metadata": {},
   "source": [
    "Monkey patching is a dynamic technique in Python by which you can modify the behavior of an existing class or module.\n",
    "\n",
    "To change the behavior of class or module, you don’t need to change the code inside class or method"
   ]
  },
  {
   "cell_type": "code",
   "execution_count": null,
   "id": "cb9a17f4-52af-4a73-a49a-db375978e9df",
   "metadata": {},
   "outputs": [],
   "source": [
    "class Animal:\n",
    "    def name(self):\n",
    "        print(\"name method is called from class Animal\")\n",
    "\n",
    "def monkey():\n",
    "    print(\"Monkey is called\")\n",
    "\n",
    "Animal.name = monkey\n",
    "obj = Animal.name()\n"
   ]
  },
  {
   "cell_type": "markdown",
   "id": "6840f014-26ca-4996-bb47-2bd5a3f5c9e3",
   "metadata": {},
   "source": [
    "# 22.Generators and Decorators"
   ]
  },
  {
   "cell_type": "markdown",
   "id": "152ef5b3-95c9-46e5-b269-2e6d0c883158",
   "metadata": {},
   "source": [
    "### Generators\n",
    "\n",
    "If a function contains at least one yield statement (it may contain other yield or return statements), it becomes a generator function\n",
    "\n",
    "The difference is that while a return statement terminates a function entirely, yield statement pauses the function saving all its states and later continues from there on successive calls\n",
    "\n",
    "Generator function contains one or more yield statements.When called, it returns an object (iterator) but does not start execution immediately"
   ]
  },
  {
   "cell_type": "code",
   "execution_count": null,
   "id": "e8f9b137-8d68-4230-9bf7-7a60f9f72c19",
   "metadata": {},
   "outputs": [],
   "source": [
    "def sq_gen(num):\n",
    "    for i in num:\n",
    "        yield i*i\n",
    "\n",
    "num = [3,4,5,6]\n",
    "print(sq_gen(num))\n",
    "sq = sq_gen(num)\n",
    "for i in sq:\n",
    "    print(i)"
   ]
  },
  {
   "cell_type": "code",
   "execution_count": null,
   "id": "d27e82ff-285a-47e0-bead-6c3d601aafaf",
   "metadata": {},
   "outputs": [],
   "source": [
    "sq_com = (i*i for i in range(1,10))\n",
    "for i in sq_com:\n",
    "    print(i)"
   ]
  },
  {
   "cell_type": "markdown",
   "id": "44aabd4d-4d0c-4c57-a642-6f09191c6e8b",
   "metadata": {},
   "source": [
    "### Decorators"
   ]
  },
  {
   "cell_type": "markdown",
   "id": "b70421b1-83f4-4e2f-873f-d93ccba44f18",
   "metadata": {},
   "source": [
    "Basically, a decorator takes in a function, adds some functionality and returns it\n",
    "\n",
    "Decorator allows a user to add new functionality to an existing object without modifying its structure"
   ]
  },
  {
   "cell_type": "code",
   "execution_count": null,
   "id": "2669d272-a025-4c28-a731-d02feb77cdff",
   "metadata": {},
   "outputs": [],
   "source": [
    "# Smart divide decorator\n",
    "\n",
    "def smart_divide(func):\n",
    "    def wrapper(*args, **kwargs):\n",
    "        if args[1] == 0:\n",
    "            return \"Cannot divide by 0\"\n",
    "        else:\n",
    "            return func(*args, **kwargs)\n",
    "    return wrapper\n",
    "\n",
    "@smart_divide\n",
    "def divide(a, b):\n",
    "    return a/b\n",
    "\n",
    "print(divide(6,0))"
   ]
  },
  {
   "cell_type": "markdown",
   "id": "ca03b736-0aa0-46ac-9318-a761218a4afb",
   "metadata": {},
   "source": [
    "# 23.lambda, map and filter"
   ]
  },
  {
   "cell_type": "markdown",
   "id": "06dee1d0-8d94-44ac-aa1d-a5dc0b5064f9",
   "metadata": {},
   "source": [
    "Lambda is commonly used when you want to pass a function as an argument to higher-order functions, that is, functions that take other functions as their arguments"
   ]
  },
  {
   "cell_type": "markdown",
   "id": "3009ebc6-7729-4436-879b-74712a3456e6",
   "metadata": {},
   "source": [
    "### Program to filter out only the even items from a list"
   ]
  },
  {
   "cell_type": "code",
   "execution_count": 28,
   "id": "e94a0150-91fe-4441-a125-ad301c728c9a",
   "metadata": {},
   "outputs": [],
   "source": [
    "data = [1, 5, 4, 6, 8, 11, 3, 12]"
   ]
  },
  {
   "cell_type": "code",
   "execution_count": null,
   "id": "9cb1beb7-025b-422a-ba82-02a07990b151",
   "metadata": {},
   "outputs": [],
   "source": [
    "res = filter(lambda x: x%2==0, data)\n",
    "print(list(res))"
   ]
  },
  {
   "cell_type": "markdown",
   "id": "6f65aa2d-2b59-44e1-bf64-e96151ffa08f",
   "metadata": {},
   "source": [
    "### Program to double each item in a list using map()"
   ]
  },
  {
   "cell_type": "code",
   "execution_count": null,
   "id": "e170ffdb-d2c9-4fcb-9b7f-0d15aa0d1bf2",
   "metadata": {},
   "outputs": [],
   "source": [
    "res = map(lambda x : x*2, data)\n",
    "print(list(res))"
   ]
  },
  {
   "cell_type": "markdown",
   "id": "82bf10c5-3e60-4e1d-ac9b-233af4b1e381",
   "metadata": {},
   "source": [
    "# 24.OOP in Python"
   ]
  },
  {
   "cell_type": "markdown",
   "id": "c7f60fac-952d-429b-97b0-f9b5d74e0aeb",
   "metadata": {},
   "source": [
    "### Inheritence"
   ]
  },
  {
   "cell_type": "code",
   "execution_count": 8,
   "id": "4ea60b5c-1dac-4c17-9431-93466ba0be10",
   "metadata": {},
   "outputs": [],
   "source": [
    "class Employee:\n",
    "    \n",
    "    def __init__(self, name, age, gender):\n",
    "        self.name = name\n",
    "        self.age = age\n",
    "        self.gender = gender\n",
    "    \n",
    "    def desc(self):\n",
    "        print(F\"{self.name} is {self.age} years old\")\n",
    "\n",
    "class Developer(Employee):\n",
    "    def __init__(self, name, age, gender, pl):\n",
    "        super().__init__(name, age, gender)\n",
    "        self.pl = pl\n",
    "    \n",
    "    def work_details(self):\n",
    "        print(F\"{self.name} works on {self.pl}\")"
   ]
  },
  {
   "cell_type": "code",
   "execution_count": null,
   "id": "7523f71c-4c3b-4214-a43b-90419a77107e",
   "metadata": {},
   "outputs": [],
   "source": [
    "dev1 = Developer(\"John\", 22, 'M', 'Python')\n",
    "dev1.work_details()\n",
    "dev1.desc()"
   ]
  },
  {
   "cell_type": "markdown",
   "id": "23778aef-a42e-47f2-961f-b5560d8cf1b3",
   "metadata": {},
   "source": [
    "### Encapsulation"
   ]
  },
  {
   "cell_type": "code",
   "execution_count": null,
   "id": "6600b037-2875-4ab5-83a4-78ea0fda9476",
   "metadata": {},
   "outputs": [],
   "source": [
    "class Car:\n",
    "    \n",
    "    def __init__(self, name, engine, milage):\n",
    "        self.name = name\n",
    "        self.__engine = engine\n",
    "        self.milage = milage\n",
    "    \n",
    "    def __engine_details(self):\n",
    "        print(F\"{self.name} has {self.__engine}\")\n",
    "\n",
    "redbull = Car(\"RedBull\", \"Honda\", \"45\")\n",
    "redbull._Car__engine_details() # Name mangling to access private method"
   ]
  },
  {
   "cell_type": "code",
   "execution_count": null,
   "id": "31ae7f32-a15f-418f-ba79-5c5509e3280a",
   "metadata": {},
   "outputs": [],
   "source": []
  }
 ],
 "metadata": {
  "kernelspec": {
   "display_name": "Python 3",
   "language": "python",
   "name": "python3"
  },
  "language_info": {
   "codemirror_mode": {
    "name": "ipython",
    "version": 3
   },
   "file_extension": ".py",
   "mimetype": "text/x-python",
   "name": "python",
   "nbconvert_exporter": "python",
   "pygments_lexer": "ipython3",
   "version": "3.8.5"
  }
 },
 "nbformat": 4,
 "nbformat_minor": 5
}
